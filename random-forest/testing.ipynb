{
 "cells": [
  {
   "cell_type": "code",
   "execution_count": 15,
   "metadata": {},
   "outputs": [],
   "source": [
    "import glob\n",
    "import os\n",
    "\n",
    "s_header_files = glob.glob(os.path.join('samitrop/', '*.hea'))\n",
    "s_record_names = [os.path.splitext(os.path.basename(file))[0] for file in s_header_files]\n",
    "\n",
    "a_header_files = glob.glob(os.path.join('/Users/victorli/DATA/CODE-15/training_data/', '*.hea'))\n",
    "a_record_names = [os.path.splitext(os.path.basename(file))[0] for file in a_header_files]"
   ]
  },
  {
   "cell_type": "code",
   "execution_count": 17,
   "metadata": {},
   "outputs": [
    {
     "name": "stdout",
     "output_type": "stream",
     "text": [
      "Number of duplicates: 0\n",
      "Duplicates: set()\n"
     ]
    }
   ],
   "source": [
    "duplicates = set(s_record_names).intersection(a_record_names)\n",
    "print(f\"Number of duplicates: {len(duplicates)}\")\n",
    "print(\"Duplicates:\", duplicates)"
   ]
  },
  {
   "cell_type": "code",
   "execution_count": 1,
   "metadata": {},
   "outputs": [],
   "source": [
    "import pandas as pd\n",
    "\n",
    "df = pd.read_csv('/Users/victorli/DATA/PTB-XL/physionet.org/files/ptb-xl/1.0.3/ptbxl_database.csv')"
   ]
  },
  {
   "cell_type": "code",
   "execution_count": 7,
   "metadata": {},
   "outputs": [
    {
     "data": {
      "text/plain": [
       "array([ 0.,  3.,  2.,  1., 35., 16.,  4., 39., 32., 17.,  9., 10., 34.,\n",
       "       44., 11., 30., 36., 13.,  5., 12., 38., 15., 25.,  8., 14., 20.,\n",
       "       29., 24., 21., 26.,  6., 22., 18., 28., 45., 41., 49., 40., 37.,\n",
       "       27., 43.,  7., 19., 48., 42., 33., 23., nan, 46., 50., 47., 31.])"
      ]
     },
     "execution_count": 7,
     "metadata": {},
     "output_type": "execute_result"
    }
   ],
   "source": [
    "df['site'].unique()"
   ]
  },
  {
   "cell_type": "code",
   "execution_count": 46,
   "metadata": {},
   "outputs": [
    {
     "data": {
      "text/plain": [
       "array([ 3,  2,  5,  4,  7,  9, 10,  8,  6,  1])"
      ]
     },
     "execution_count": 46,
     "metadata": {},
     "output_type": "execute_result"
    }
   ],
   "source": [
    "ha = df['strat_fold'].unique()\n",
    "ha"
   ]
  },
  {
   "cell_type": "code",
   "execution_count": null,
   "metadata": {},
   "outputs": [],
   "source": []
  }
 ],
 "metadata": {
  "kernelspec": {
   "display_name": ".venv",
   "language": "python",
   "name": "python3"
  },
  "language_info": {
   "codemirror_mode": {
    "name": "ipython",
    "version": 3
   },
   "file_extension": ".py",
   "mimetype": "text/x-python",
   "name": "python",
   "nbconvert_exporter": "python",
   "pygments_lexer": "ipython3",
   "version": "3.9.6"
  }
 },
 "nbformat": 4,
 "nbformat_minor": 2
}
